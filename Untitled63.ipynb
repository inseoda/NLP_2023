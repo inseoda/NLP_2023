{
  "nbformat": 4,
  "nbformat_minor": 0,
  "metadata": {
    "colab": {
      "provenance": [],
      "authorship_tag": "ABX9TyNnwCogmtYIK52NuhjrwAk/",
      "include_colab_link": true
    },
    "kernelspec": {
      "name": "python3",
      "display_name": "Python 3"
    },
    "language_info": {
      "name": "python"
    }
  },
  "cells": [
    {
      "cell_type": "markdown",
      "metadata": {
        "id": "view-in-github",
        "colab_type": "text"
      },
      "source": [
        "<a href=\"https://colab.research.google.com/github/inseoda/NLP_2023/blob/main/Untitled63.ipynb\" target=\"_parent\"><img src=\"https://colab.research.google.com/assets/colab-badge.svg\" alt=\"Open In Colab\"/></a>"
      ]
    },
    {
      "cell_type": "code",
      "execution_count": null,
      "metadata": {
        "id": "AZmeoZcvzBEm"
      },
      "outputs": [],
      "source": [
        ">>> s1 = set([1, 2, 3])\n",
        ">>> l1 = list(s1)\n",
        ">>> l1\n",
        "[1, 2, 3]\n",
        ">>> l1[0]\n",
        "1\n",
        ">>> t1 = tuple(s1)\n",
        ">>> t1\n",
        "(1, 2, 3)\n",
        ">>> t1[0]\n",
        "1\n"
      ]
    }
  ]
}