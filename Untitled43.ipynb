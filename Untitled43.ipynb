{
  "nbformat": 4,
  "nbformat_minor": 0,
  "metadata": {
    "colab": {
      "provenance": [],
      "authorship_tag": "ABX9TyNnwCogmtYIK52NuhjrwAk/",
      "include_colab_link": true
    },
    "kernelspec": {
      "name": "python3",
      "display_name": "Python 3"
    },
    "language_info": {
      "name": "python"
    }
  },
  "cells": [
    {
      "cell_type": "markdown",
      "metadata": {
        "id": "view-in-github",
        "colab_type": "text"
      },
      "source": [
        "<a href=\"https://colab.research.google.com/github/inseoda/NLP_2023/blob/main/Untitled43.ipynb\" target=\"_parent\"><img src=\"https://colab.research.google.com/assets/colab-badge.svg\" alt=\"Open In Colab\"/></a>"
      ]
    },
    {
      "cell_type": "code",
      "execution_count": 1,
      "metadata": {
        "id": "wZVOeauq4nvf",
        "outputId": "bf8a689d-4468-4130-cdc0-19b580e00366",
        "colab": {
          "base_uri": "https://localhost:8080/"
        }
      },
      "outputs": [
        {
          "output_type": "execute_result",
          "data": {
            "text/plain": [
              "1"
            ]
          },
          "metadata": {},
          "execution_count": 1
        }
      ],
      "source": [
        ">>> s1 = set([1, 2, 3])\n",
        ">>> l1 = list(s1)\n",
        ">>> l1\n",
        "[1, 2, 3]\n",
        ">>> l1[0]\n",
        "1\n",
        ">>> t1 = tuple(s1)\n",
        ">>> t1\n",
        "(1, 2, 3)\n",
        ">>> t1[0]\n",
        "1\n"
      ]
    }
  ]
}