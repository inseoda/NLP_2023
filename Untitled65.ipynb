{
  "nbformat": 4,
  "nbformat_minor": 0,
  "metadata": {
    "colab": {
      "provenance": [],
      "authorship_tag": "ABX9TyMAMTnt5HSQ+YZbhJLm7LDM",
      "include_colab_link": true
    },
    "kernelspec": {
      "name": "python3",
      "display_name": "Python 3"
    },
    "language_info": {
      "name": "python"
    }
  },
  "cells": [
    {
      "cell_type": "markdown",
      "metadata": {
        "id": "view-in-github",
        "colab_type": "text"
      },
      "source": [
        "<a href=\"https://colab.research.google.com/github/inseoda/NLP_2023/blob/main/Untitled65.ipynb\" target=\"_parent\"><img src=\"https://colab.research.google.com/assets/colab-badge.svg\" alt=\"Open In Colab\"/></a>"
      ]
    },
    {
      "cell_type": "code",
      "execution_count": 1,
      "metadata": {
        "id": "1_pjbTs4MVPL"
      },
      "outputs": [],
      "source": [
        ">>> prompt = \"\"\"\n",
        "... 1. Add\n",
        "... 2. Del\n",
        "... 3. List\n",
        "... 4. Quit\n",
        "...\n",
        "... Enter number: \"\"\"\n",
        ">>>\n"
      ]
    }
  ]
}