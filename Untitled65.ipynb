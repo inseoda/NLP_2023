{
  "nbformat": 4,
  "nbformat_minor": 0,
  "metadata": {
    "colab": {
      "provenance": [],
      "authorship_tag": "ABX9TyPcIIfubEhCXBrC3eMsdG43",
      "include_colab_link": true
    },
    "kernelspec": {
      "name": "python3",
      "display_name": "Python 3"
    },
    "language_info": {
      "name": "python"
    }
  },
  "cells": [
    {
      "cell_type": "markdown",
      "metadata": {
        "id": "view-in-github",
        "colab_type": "text"
      },
      "source": [
        "<a href=\"https://colab.research.google.com/github/inseoda/NLP_2023/blob/main/Untitled65.ipynb\" target=\"_parent\"><img src=\"https://colab.research.google.com/assets/colab-badge.svg\" alt=\"Open In Colab\"/></a>"
      ]
    },
    {
      "cell_type": "code",
      "execution_count": null,
      "metadata": {
        "id": "BCURPtfIY5Oo"
      },
      "outputs": [],
      "source": [
        ">>> a = 3\n",
        ">>> b = 4\n",
        ">>> a + b\n",
        "7\n",
        ">>> a - b\n",
        "-1\n",
        ">>> a * b\n",
        "12\n",
        ">>> a / b\n",
        "0.75\n"
      ]
    }
  ]
}