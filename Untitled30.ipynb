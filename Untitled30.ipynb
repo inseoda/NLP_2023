{
  "nbformat": 4,
  "nbformat_minor": 0,
  "metadata": {
    "colab": {
      "provenance": [],
      "authorship_tag": "ABX9TyMFa016V/Wx7HSh1P2T1UTh",
      "include_colab_link": true
    },
    "kernelspec": {
      "name": "python3",
      "display_name": "Python 3"
    },
    "language_info": {
      "name": "python"
    }
  },
  "cells": [
    {
      "cell_type": "markdown",
      "metadata": {
        "id": "view-in-github",
        "colab_type": "text"
      },
      "source": [
        "<a href=\"https://colab.research.google.com/github/inseoda/NLP_2023/blob/main/Untitled30.ipynb\" target=\"_parent\"><img src=\"https://colab.research.google.com/assets/colab-badge.svg\" alt=\"Open In Colab\"/></a>"
      ]
    },
    {
      "cell_type": "code",
      "execution_count": 1,
      "metadata": {
        "colab": {
          "base_uri": "https://localhost:8080/"
        },
        "id": "8_bWFIv0bDXw",
        "outputId": "7118f18e-e2b1-4a57-a827-7300bb82b162"
      },
      "outputs": [
        {
          "output_type": "stream",
          "name": "stdout",
          "text": [
            "233168\n"
          ]
        }
      ],
      "source": [
        "# add_multiple.py\n",
        "result = 0\n",
        "for n in range(1, 1000):\n",
        "    if n % 3 == 0 or n % 5 == 0:\n",
        "        result += n\n",
        "print(result)\n"
      ]
    }
  ]
}