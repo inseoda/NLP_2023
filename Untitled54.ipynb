{
  "nbformat": 4,
  "nbformat_minor": 0,
  "metadata": {
    "colab": {
      "provenance": [],
      "authorship_tag": "ABX9TyNvjNs1aVp/41Jpc8LCDKLL",
      "include_colab_link": true
    },
    "kernelspec": {
      "name": "python3",
      "display_name": "Python 3"
    },
    "language_info": {
      "name": "python"
    }
  },
  "cells": [
    {
      "cell_type": "markdown",
      "metadata": {
        "id": "view-in-github",
        "colab_type": "text"
      },
      "source": [
        "<a href=\"https://colab.research.google.com/github/inseoda/NLP_2023/blob/main/Untitled54.ipynb\" target=\"_parent\"><img src=\"https://colab.research.google.com/assets/colab-badge.svg\" alt=\"Open In Colab\"/></a>"
      ]
    },
    {
      "cell_type": "code",
      "execution_count": 1,
      "metadata": {
        "id": "OX_ZsSUnaaNH",
        "outputId": "058f52cf-d3e3-4cbd-aa19-1d80efb21d9b",
        "colab": {
          "base_uri": "https://localhost:8080/"
        }
      },
      "outputs": [
        {
          "output_type": "execute_result",
          "data": {
            "text/plain": [
              "['a', 'b', 'c']"
            ]
          },
          "metadata": {},
          "execution_count": 1
        }
      ],
      "source": [
        ">>> a = [1, 2, 3, ['a', 'b', 'c']]\n",
        "\n",
        ">>> a[0]\n",
        "1\n",
        ">>> a[-1]\n",
        "['a', 'b', 'c']\n",
        ">>> a[3]\n",
        "\n"
      ]
    }
  ]
}