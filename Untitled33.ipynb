{
  "nbformat": 4,
  "nbformat_minor": 0,
  "metadata": {
    "colab": {
      "provenance": [],
      "authorship_tag": "ABX9TyPRp3ykEyUqpW8QwlA79+4N",
      "include_colab_link": true
    },
    "kernelspec": {
      "name": "python3",
      "display_name": "Python 3"
    },
    "language_info": {
      "name": "python"
    }
  },
  "cells": [
    {
      "cell_type": "markdown",
      "metadata": {
        "id": "view-in-github",
        "colab_type": "text"
      },
      "source": [
        "<a href=\"https://colab.research.google.com/github/inseoda/NLP_2023/blob/main/Untitled33.ipynb\" target=\"_parent\"><img src=\"https://colab.research.google.com/assets/colab-badge.svg\" alt=\"Open In Colab\"/></a>"
      ]
    },
    {
      "cell_type": "code",
      "execution_count": 1,
      "metadata": {
        "colab": {
          "base_uri": "https://localhost:8080/"
        },
        "id": "LrG4T2Av9S0k",
        "outputId": "ea59f5de-2d29-4b5d-9b49-af1ef9f075e0"
      },
      "outputs": [
        {
          "output_type": "stream",
          "name": "stdout",
          "text": [
            "1\n",
            "2\n",
            "3\n",
            "4\n"
          ]
        }
      ],
      "source": [
        "def get_total_page(m, n):\n",
        "    return m // n + 1  # m을 n으로 나눌 때 소수점 아래 자리를 버리기 위해 // 연산자 사용\n",
        "\n",
        "print(get_total_page(5, 10))    # 1 출력\n",
        "print(get_total_page(15, 10))   # 2 출력\n",
        "print(get_total_page(25, 10))   # 3 출력\n",
        "print(get_total_page(30, 10))   # 4 출력\n"
      ]
    }
  ]
}