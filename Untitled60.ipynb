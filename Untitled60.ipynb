{
  "nbformat": 4,
  "nbformat_minor": 0,
  "metadata": {
    "colab": {
      "provenance": [],
      "authorship_tag": "ABX9TyPYTwhIMBy58AlfHecYaznN",
      "include_colab_link": true
    },
    "kernelspec": {
      "name": "python3",
      "display_name": "Python 3"
    },
    "language_info": {
      "name": "python"
    }
  },
  "cells": [
    {
      "cell_type": "markdown",
      "metadata": {
        "id": "view-in-github",
        "colab_type": "text"
      },
      "source": [
        "<a href=\"https://colab.research.google.com/github/inseoda/NLP_2023/blob/main/Untitled60.ipynb\" target=\"_parent\"><img src=\"https://colab.research.google.com/assets/colab-badge.svg\" alt=\"Open In Colab\"/></a>"
      ]
    },
    {
      "cell_type": "code",
      "execution_count": 1,
      "metadata": {
        "colab": {
          "base_uri": "https://localhost:8080/"
        },
        "id": "UAriZJIV6App",
        "outputId": "fe6bb47a-9186-4268-cdc3-8c4a8ce6fb5d"
      },
      "outputs": [
        {
          "output_type": "stream",
          "name": "stdout",
          "text": [
            "1번 학생은 합격입니다.\n",
            "2번 학생은 불합격입니다.\n",
            "3번 학생은 합격입니다.\n",
            "4번 학생은 불합격입니다.\n",
            "5번 학생은 합격입니다.\n"
          ]
        }
      ],
      "source": [
        "\n",
        "marks = [90, 25, 67, 45, 80]\n",
        "\n",
        "number = 0\n",
        "for mark in marks:\n",
        "    number = number +1\n",
        "    if mark >= 60:\n",
        "        print(\"%d번 학생은 합격입니다.\" % number)\n",
        "    else:\n",
        "        print(\"%d번 학생은 불합격입니다.\" % number)\n"
      ]
    }
  ]
}