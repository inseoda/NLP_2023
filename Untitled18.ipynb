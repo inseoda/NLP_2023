{
  "nbformat": 4,
  "nbformat_minor": 0,
  "metadata": {
    "colab": {
      "provenance": [],
      "authorship_tag": "ABX9TyPI6aJXvFvzCDugDQb8Nb7q",
      "include_colab_link": true
    },
    "kernelspec": {
      "name": "python3",
      "display_name": "Python 3"
    },
    "language_info": {
      "name": "python"
    }
  },
  "cells": [
    {
      "cell_type": "markdown",
      "metadata": {
        "id": "view-in-github",
        "colab_type": "text"
      },
      "source": [
        "<a href=\"https://colab.research.google.com/github/inseoda/NLP_2023/blob/main/Untitled18.ipynb\" target=\"_parent\"><img src=\"https://colab.research.google.com/assets/colab-badge.svg\" alt=\"Open In Colab\"/></a>"
      ]
    },
    {
      "cell_type": "code",
      "execution_count": 1,
      "metadata": {
        "colab": {
          "base_uri": "https://localhost:8080/"
        },
        "id": "2mN1vdq_7Uuf",
        "outputId": "f90806bd-6fa8-4cd1-8e49-769405452878"
      },
      "outputs": [
        {
          "output_type": "stream",
          "name": "stdout",
          "text": [
            "15\n",
            "120\n"
          ]
        }
      ],
      "source": [
        ">>> def add_mul(choice, *args):\n",
        "...     if choice == \"add\":   # 매개변수 choice에 \"add\"를 입력받았을 때\n",
        "...         result = 0\n",
        "...         for i in args:\n",
        "...             result = result + i\n",
        "...     elif choice == \"mul\":   # 매개변수 choice에 \"mul\"을 입력받았을 때\n",
        "...         result = 1\n",
        "...         for i in args:\n",
        "...             result = result * i\n",
        "...     return result\n",
        ">>> result = add_mul('add', 1,2,3,4,5)\n",
        ">>> print(result)\n",
        "\n",
        ">>> result = add_mul('mul', 1,2,3,4,5)\n",
        ">>> print(result)\n",
        "\n"
      ]
    }
  ]
}