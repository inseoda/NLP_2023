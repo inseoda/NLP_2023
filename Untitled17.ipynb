{
  "nbformat": 4,
  "nbformat_minor": 0,
  "metadata": {
    "colab": {
      "provenance": [],
      "authorship_tag": "ABX9TyOpBO9V34SObyEzXlNMuVYc",
      "include_colab_link": true
    },
    "kernelspec": {
      "name": "python3",
      "display_name": "Python 3"
    },
    "language_info": {
      "name": "python"
    }
  },
  "cells": [
    {
      "cell_type": "markdown",
      "metadata": {
        "id": "view-in-github",
        "colab_type": "text"
      },
      "source": [
        "<a href=\"https://colab.research.google.com/github/inseoda/NLP_2023/blob/main/Untitled17.ipynb\" target=\"_parent\"><img src=\"https://colab.research.google.com/assets/colab-badge.svg\" alt=\"Open In Colab\"/></a>"
      ]
    },
    {
      "cell_type": "code",
      "execution_count": 1,
      "metadata": {
        "colab": {
          "base_uri": "https://localhost:8080/"
        },
        "id": "ou8cz3VfLZG3",
        "outputId": "f2b2e002-4af0-4270-b07b-ee5e52540881"
      },
      "outputs": [
        {
          "output_type": "stream",
          "name": "stdout",
          "text": [
            "6\n",
            "55\n"
          ]
        }
      ],
      "source": [
        ">>> def add_many(*args):\n",
        "...     result = 0\n",
        "...     for i in args:\n",
        "...         result = result + i   # *args에 입력받은 모든 값을 더한다.\n",
        "...     return result\n",
        ">>> result = add_many(1,2,3)\n",
        ">>> print(result)\n",
        "\n",
        ">>> result = add_many(1,2,3,4,5,6,7,8,9,10)\n",
        ">>> print(result)\n",
        "\n"
      ]
    }
  ]
}